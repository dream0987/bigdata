{
  "nbformat": 4,
  "nbformat_minor": 0,
  "metadata": {
    "colab": {
      "provenance": [],
      "authorship_tag": "ABX9TyMp6ONuE7NFS1glg5DpW8MS",
      "include_colab_link": true
    },
    "kernelspec": {
      "name": "python3",
      "display_name": "Python 3"
    },
    "language_info": {
      "name": "python"
    }
  },
  "cells": [
    {
      "cell_type": "markdown",
      "metadata": {
        "id": "view-in-github",
        "colab_type": "text"
      },
      "source": [
        "<a href=\"https://colab.research.google.com/github/leesua-github/bigdata/blob/main/_%ED%8C%8C%EC%9D%B4%EC%8D%AC_%EA%B8%B0%EC%B4%88.ipynb\" target=\"_parent\"><img src=\"https://colab.research.google.com/assets/colab-badge.svg\" alt=\"Open In Colab\"/></a>"
      ]
    },
    {
      "cell_type": "code",
      "source": [
        "# 함수-print: 괄호 안에 어떤 값을 모니터에 출력할 때 사용"
      ],
      "metadata": {
        "id": "pIGQVmOX13fQ"
      },
      "execution_count": null,
      "outputs": []
    },
    {
      "cell_type": "code",
      "execution_count": null,
      "metadata": {
        "colab": {
          "base_uri": "https://localhost:8080/"
        },
        "id": "Fh0v_iKwziQZ",
        "outputId": "9280be67-f235-48ae-f3ec-36b2a0b036c1"
      },
      "outputs": [
        {
          "output_type": "stream",
          "name": "stdout",
          "text": [
            "50\n"
          ]
        }
      ],
      "source": [
        "print(10*5)"
      ]
    },
    {
      "cell_type": "code",
      "source": [
        "# 문자열을 표현할 때는 :'문자'사용\n",
        "print('안녕하세요')"
      ],
      "metadata": {
        "colab": {
          "base_uri": "https://localhost:8080/"
        },
        "id": "5R_BgIhH0BFg",
        "outputId": "0325afc6-8a9f-4d06-b6e6-da774d659551"
      },
      "execution_count": null,
      "outputs": [
        {
          "output_type": "stream",
          "name": "stdout",
          "text": [
            "안녕하세요\n"
          ]
        }
      ]
    },
    {
      "cell_type": "code",
      "source": [
        "# 닉네임부분처럼 하나의 값으로 고정되어있지 않고 변하는 값을 설정할 수 있는 공간=변수\n",
        "name='파이쏭'\n",
        "print(name)\n",
        "# ex)name:변수,=:왼쪽값에 대입(또는 배정)하는 역할\n",
        "# 변수는 숫자로 시작할 수 없다"
      ],
      "metadata": {
        "colab": {
          "base_uri": "https://localhost:8080/"
        },
        "id": "Kv0yFDTz0TxL",
        "outputId": "29dd21ea-1b24-4f8c-ce22-ca8f9dc0fabf"
      },
      "execution_count": null,
      "outputs": [
        {
          "output_type": "stream",
          "name": "stdout",
          "text": [
            "파이쏭\n"
          ]
        }
      ]
    },
    {
      "cell_type": "code",
      "source": [
        "name='파이쏭'\n",
        "print(name+'님 안녕하세요')\n",
        "# +:문자열과 문자열을 이어주는 역할"
      ],
      "metadata": {
        "colab": {
          "base_uri": "https://localhost:8080/"
        },
        "id": "EBMPYJnr0hI8",
        "outputId": "efbe879c-90f1-43a5-cb0a-e8a857fdf6c9"
      },
      "execution_count": null,
      "outputs": [
        {
          "output_type": "stream",
          "name": "stdout",
          "text": [
            "파이쏭님 안녕하세요\n"
          ]
        }
      ]
    },
    {
      "cell_type": "code",
      "source": [
        "name='원더키디'\n",
        "print(2020,name,'파이팅')"
      ],
      "metadata": {
        "colab": {
          "base_uri": "https://localhost:8080/"
        },
        "id": "HcIMsiy51goZ",
        "outputId": "6150cf6b-4e80-425f-a39e-1fc3dd56be79"
      },
      "execution_count": null,
      "outputs": [
        {
          "output_type": "stream",
          "name": "stdout",
          "text": [
            "2020 원더키디 파이팅\n"
          ]
        }
      ]
    },
    {
      "cell_type": "code",
      "source": [
        "# input : 키보드로 문자열을 입력받는 기능"
      ],
      "metadata": {
        "id": "tilkeqSz1ztV"
      },
      "execution_count": null,
      "outputs": []
    },
    {
      "cell_type": "code",
      "source": [
        "name=input('이름을 입력해주세요')\n",
        "print(name+'님 안녕하세요')"
      ],
      "metadata": {
        "colab": {
          "base_uri": "https://localhost:8080/"
        },
        "id": "c1sqB3h02KTQ",
        "outputId": "337d6e67-b5c8-4184-c472-857ee2275efe"
      },
      "execution_count": null,
      "outputs": [
        {
          "output_type": "stream",
          "name": "stdout",
          "text": [
            "이름을 입력해주세요파이쏭\n",
            "파이쏭님 안녕하세요\n"
          ]
        }
      ]
    },
    {
      "cell_type": "code",
      "source": [
        "age=input('나이를 입력해주세요:')\n",
        "print(age-4)\n",
        "# 위의 에러는 (문자열-정수열)이기 때문에 발생 -> (정수-정수)로 바꾸어야 에러가 나지 않음"
      ],
      "metadata": {
        "colab": {
          "base_uri": "https://localhost:8080/",
          "height": 211
        },
        "id": "WH9whWpU2UF_",
        "outputId": "cdf94117-1a27-46e8-e855-46dc6f11c17b"
      },
      "execution_count": null,
      "outputs": [
        {
          "name": "stdout",
          "output_type": "stream",
          "text": [
            "나이를 입력해주세요:9\n"
          ]
        },
        {
          "output_type": "error",
          "ename": "TypeError",
          "evalue": "ignored",
          "traceback": [
            "\u001b[0;31m---------------------------------------------------------------------------\u001b[0m",
            "\u001b[0;31mTypeError\u001b[0m                                 Traceback (most recent call last)",
            "\u001b[0;32m<ipython-input-14-10cd72cc64eb>\u001b[0m in \u001b[0;36m<module>\u001b[0;34m\u001b[0m\n\u001b[1;32m      1\u001b[0m \u001b[0mage\u001b[0m\u001b[0;34m=\u001b[0m\u001b[0minput\u001b[0m\u001b[0;34m(\u001b[0m\u001b[0;34m'나이를 입력해주세요:'\u001b[0m\u001b[0;34m)\u001b[0m\u001b[0;34m\u001b[0m\u001b[0;34m\u001b[0m\u001b[0m\n\u001b[0;32m----> 2\u001b[0;31m \u001b[0mprint\u001b[0m\u001b[0;34m(\u001b[0m\u001b[0mage\u001b[0m\u001b[0;34m-\u001b[0m\u001b[0;36m4\u001b[0m\u001b[0;34m)\u001b[0m\u001b[0;34m\u001b[0m\u001b[0;34m\u001b[0m\u001b[0m\n\u001b[0m",
            "\u001b[0;31mTypeError\u001b[0m: unsupported operand type(s) for -: 'str' and 'int'"
          ]
        }
      ]
    },
    {
      "cell_type": "code",
      "source": [
        "# str(string):문자열의 약자, int(integer):정수의 약자\n",
        "name=input('나이를 입력해주세요:')\n",
        "print(int(age)-4)"
      ],
      "metadata": {
        "colab": {
          "base_uri": "https://localhost:8080/"
        },
        "id": "02bpJ8dJ2cKf",
        "outputId": "a78ef576-c7eb-4838-ec1f-45961a25d89d"
      },
      "execution_count": null,
      "outputs": [
        {
          "output_type": "stream",
          "name": "stdout",
          "text": [
            "나이를 입력해주세요:8\n",
            "5\n"
          ]
        }
      ]
    },
    {
      "cell_type": "code",
      "source": [
        "name=input('이름을 입력해주세요:')\n",
        "age=int(input('나이를 입력해주세요:'))\n",
        "print('안녕하세요!', name+'님 저는 처음에' +str(age-2)+'인 줄 알았어요!')\n",
        "# int를 사용해서 나이를 정수로 저장\n",
        "# str을 사용해서 숫자를 문자로 정장"
      ],
      "metadata": {
        "colab": {
          "base_uri": "https://localhost:8080/"
        },
        "id": "MVxjMx1f3WU-",
        "outputId": "8d8bbab9-4298-4ffe-b7eb-1d495d6e5fb0"
      },
      "execution_count": null,
      "outputs": [
        {
          "output_type": "stream",
          "name": "stdout",
          "text": [
            "이름을 입력해주세요:파이쏭\n",
            "나이를 입력해주세요:20\n",
            "안녕하세요! 파이쏭님 저는 처음에18인 줄 알았어요!\n"
          ]
        }
      ]
    },
    {
      "cell_type": "code",
      "source": [
        "# 산술연산자 사용하기"
      ],
      "metadata": {
        "id": "cwSPoR5F4Tal"
      },
      "execution_count": null,
      "outputs": []
    },
    {
      "cell_type": "code",
      "source": [
        "# 곱셈\n",
        "print(3*10)"
      ],
      "metadata": {
        "colab": {
          "base_uri": "https://localhost:8080/"
        },
        "id": "23Slfs9r4rdP",
        "outputId": "c263f0da-57d0-4018-f948-348c277edd0a"
      },
      "execution_count": null,
      "outputs": [
        {
          "output_type": "stream",
          "name": "stdout",
          "text": [
            "30\n"
          ]
        }
      ]
    },
    {
      "cell_type": "code",
      "source": [
        "# 거듭제곱\n",
        "print(3**10)"
      ],
      "metadata": {
        "colab": {
          "base_uri": "https://localhost:8080/"
        },
        "id": "8RrwZXSG4wBy",
        "outputId": "a7ecbe2d-9445-499e-d1f7-dec88a20d7c2"
      },
      "execution_count": null,
      "outputs": [
        {
          "output_type": "stream",
          "name": "stdout",
          "text": [
            "59049\n"
          ]
        }
      ]
    },
    {
      "cell_type": "code",
      "source": [
        "# 나머지\n",
        "print(3%10)"
      ],
      "metadata": {
        "colab": {
          "base_uri": "https://localhost:8080/"
        },
        "id": "qv6kAVvH44HH",
        "outputId": "7654dfe3-8021-4ec9-f666-c92d7a6d7e85"
      },
      "execution_count": null,
      "outputs": [
        {
          "output_type": "stream",
          "name": "stdout",
          "text": [
            "3\n"
          ]
        }
      ]
    },
    {
      "cell_type": "code",
      "source": [
        "# 실수 나눗셈\n",
        "print(3/2)"
      ],
      "metadata": {
        "colab": {
          "base_uri": "https://localhost:8080/"
        },
        "id": "kf1XUigO4634",
        "outputId": "55e39b08-73dc-43ec-89ab-2efa16a79822"
      },
      "execution_count": null,
      "outputs": [
        {
          "output_type": "stream",
          "name": "stdout",
          "text": [
            "1.5\n"
          ]
        }
      ]
    },
    {
      "cell_type": "code",
      "source": [
        "# 정수 나눗셈\n",
        "print(3//2)"
      ],
      "metadata": {
        "colab": {
          "base_uri": "https://localhost:8080/"
        },
        "id": "y7HaB-7d5uZE",
        "outputId": "c10522da-d7f7-4c57-e79c-35552fa1fc5a"
      },
      "execution_count": null,
      "outputs": [
        {
          "output_type": "stream",
          "name": "stdout",
          "text": [
            "1\n"
          ]
        }
      ]
    },
    {
      "cell_type": "code",
      "source": [
        "# 비교연산자 사용하기"
      ],
      "metadata": {
        "id": "wXNqEhLI5z7J"
      },
      "execution_count": null,
      "outputs": []
    },
    {
      "cell_type": "code",
      "source": [
        "# ==: 같다\n",
        "# !=: 같지 않다"
      ],
      "metadata": {
        "id": "in_7YKTe59WH"
      },
      "execution_count": null,
      "outputs": []
    },
    {
      "cell_type": "code",
      "source": [
        "# 논리 연산자"
      ],
      "metadata": {
        "id": "RfDRMpGw5_yV"
      },
      "execution_count": null,
      "outputs": []
    },
    {
      "cell_type": "code",
      "source": [
        "# 논리곱: A and B : A와 B 중 하나라도 False일 경우 False이고 둘다 True일 때만 결과가 True\n",
        "# 논리합: A or B : A와 B가 모두 False일 경우에만 결과가  False이고, 나머지 경우는 True\n",
        "# 논리부정: not A : A의 결과가 False일때는 True이고, True라면 False"
      ],
      "metadata": {
        "id": "AQtG-a_-6Qiz"
      },
      "execution_count": null,
      "outputs": []
    },
    {
      "cell_type": "code",
      "source": [
        "# inport : 내장 함수에 없는 함수를 불러낼 때 사용(라이브러리를 불러옴)"
      ],
      "metadata": {
        "id": "KPURHhnx7ciz"
      },
      "execution_count": null,
      "outputs": []
    },
    {
      "cell_type": "code",
      "source": [
        "# inport random : random이라는 이름의 라이브러리를 불러오라는 명령\n",
        "# random.randint(1,6)은 random 라이브러리에 있는 randint라는 함수에 1과 6을 입력해서 실행하라는 의미"
      ],
      "metadata": {
        "id": "NfZQPqY17jfx"
      },
      "execution_count": null,
      "outputs": []
    },
    {
      "cell_type": "code",
      "source": [
        "# randint():입력되는 두 정수 사이의 숫자를 랜덤하게 생성하는 함수\n",
        "# random.randint(a,b)는 a이상 b이하의 한 개의 정수를 만든다"
      ],
      "metadata": {
        "id": "ButgjYN78IIR"
      },
      "execution_count": null,
      "outputs": []
    },
    {
      "cell_type": "code",
      "source": [
        "import random\n",
        "dice=random.randint(1,6)\n",
        "print(dice)"
      ],
      "metadata": {
        "colab": {
          "base_uri": "https://localhost:8080/"
        },
        "id": "0o3rpIXp8V3j",
        "outputId": "ec29e1c0-5b61-44d9-faa4-764cbf56b73a"
      },
      "execution_count": null,
      "outputs": [
        {
          "output_type": "stream",
          "name": "stdout",
          "text": [
            "3\n"
          ]
        }
      ]
    },
    {
      "cell_type": "code",
      "source": [
        "# 제곱근 함수를 사용하려면 제곱근 함수가 저장되어있는 라이브러리 math에서 sqrt함수를 실행"
      ],
      "metadata": {
        "id": "ROfFJhGp8uX9"
      },
      "execution_count": null,
      "outputs": []
    },
    {
      "cell_type": "code",
      "source": [
        "import math\n",
        "print(math. sqrt(2))"
      ],
      "metadata": {
        "colab": {
          "base_uri": "https://localhost:8080/"
        },
        "id": "bJlWBSlj8_0n",
        "outputId": "6476dd20-0163-444a-d1f3-623bac87c856"
      },
      "execution_count": null,
      "outputs": [
        {
          "output_type": "stream",
          "name": "stdout",
          "text": [
            "1.4142135623730951\n"
          ]
        }
      ]
    },
    {
      "cell_type": "code",
      "source": [
        "# 반복과 선택"
      ],
      "metadata": {
        "id": "NJOm7Vfy9M7T"
      },
      "execution_count": null,
      "outputs": []
    },
    {
      "cell_type": "code",
      "source": [
        "# for 반복문\n",
        "# for: 주어진 데이터 세트를 순회하거나 원하는 횟수만큼 반복하고 싶을 때 사용"
      ],
      "metadata": {
        "id": "vqA4vrGR9V67"
      },
      "execution_count": null,
      "outputs": []
    },
    {
      "cell_type": "code",
      "source": [
        "# for 반복문 구조\n",
        "# for A in B: # : 기호를 반드시 사용해야 함\n",
        "#   반복할 문장1\n",
        "#   (반복할 문장n)\n",
        "\n",
        "# 여기서 B는 데이터 세트를 의미,데이터 세트에서 데이터를 하나씩 꺼내 와서 A에 임시로 저장\n",
        "# 들여쓰기 필수(tab 사용)"
      ],
      "metadata": {
        "id": "0T8DUYK49ZMO"
      },
      "execution_count": null,
      "outputs": []
    },
    {
      "cell_type": "code",
      "source": [
        "# for 반복문 예시\n",
        "name='파이쏭'\n",
        "for i in name:\n",
        "  print(i)\n",
        "\n",
        "# '파이쏭'이라는 문자열이 데이터 세트\n",
        "# 이 데이터 세트에서 '파', '이', '쏭'이라는 데이터를 하나씩 순서대로 꺼내서 변수 i에 임시 정장\n",
        "# 첫번째 바퀴에서 i는 '파'가, 두번째 바퀴에서 i는 '이'가, 세번째 바퀴에서 i는 '쏭'이 저장\n",
        "# i를 반복하며 출력(print)하면 글자가 하나씩 출력"
      ],
      "metadata": {
        "colab": {
          "base_uri": "https://localhost:8080/"
        },
        "id": "-KEB1PI899xe",
        "outputId": "379208c2-596f-4318-fd59-eb66d905f76a"
      },
      "execution_count": null,
      "outputs": [
        {
          "output_type": "stream",
          "name": "stdout",
          "text": [
            "파\n",
            "이\n",
            "쏭\n"
          ]
        }
      ]
    },
    {
      "cell_type": "code",
      "source": [
        "names=['쵸파','루피','상디','조로']\n",
        "for name in names:\n",
        "  print(name)"
      ],
      "metadata": {
        "colab": {
          "base_uri": "https://localhost:8080/"
        },
        "id": "VM7HqW0z-g9G",
        "outputId": "018f4142-fef7-4903-8cd9-d17c85a10dd7"
      },
      "execution_count": null,
      "outputs": [
        {
          "output_type": "stream",
          "name": "stdout",
          "text": [
            "쵸파\n",
            "루피\n",
            "상디\n",
            "조로\n"
          ]
        }
      ]
    },
    {
      "cell_type": "code",
      "source": [
        "for i in [0,1,2,3]:\n",
        "  print(i**2)"
      ],
      "metadata": {
        "id": "tj3f8Qxz_cov",
        "colab": {
          "base_uri": "https://localhost:8080/"
        },
        "outputId": "27c7ff77-5853-488b-9123-4ae8a0dec02f"
      },
      "execution_count": null,
      "outputs": [
        {
          "output_type": "stream",
          "name": "stdout",
          "text": [
            "0\n",
            "1\n",
            "4\n",
            "9\n"
          ]
        }
      ]
    },
    {
      "cell_type": "code",
      "source": [
        "for i in range(100):\n",
        "  print(i**2)"
      ],
      "metadata": {
        "id": "VYrbF61g_xcl"
      },
      "execution_count": null,
      "outputs": []
    },
    {
      "cell_type": "code",
      "source": [
        "for i in range(10):\n",
        "  print(i)"
      ],
      "metadata": {
        "colab": {
          "base_uri": "https://localhost:8080/"
        },
        "id": "6q3-eClKq4OS",
        "outputId": "b5831ea0-abb8-4942-eee7-c67354c639ae"
      },
      "execution_count": null,
      "outputs": [
        {
          "output_type": "stream",
          "name": "stdout",
          "text": [
            "0\n",
            "1\n",
            "2\n",
            "3\n",
            "4\n",
            "5\n",
            "6\n",
            "7\n",
            "8\n",
            "9\n"
          ]
        }
      ]
    },
    {
      "cell_type": "code",
      "source": [
        "# 파이썬의 첫 번째 시작은 0부터\n",
        "# range(): 범위"
      ],
      "metadata": {
        "id": "7-ZEGnBpASxn"
      },
      "execution_count": null,
      "outputs": []
    },
    {
      "cell_type": "code",
      "source": [
        "# 1부터 9까지의 정수\n",
        "for i in range(1,10):\n",
        "  print(i)"
      ],
      "metadata": {
        "id": "qlnmv7TCAf0R",
        "colab": {
          "base_uri": "https://localhost:8080/"
        },
        "outputId": "609a7515-9d2b-4b09-c61a-511787c5bfc6"
      },
      "execution_count": null,
      "outputs": [
        {
          "output_type": "stream",
          "name": "stdout",
          "text": [
            "1\n",
            "2\n",
            "3\n",
            "4\n",
            "5\n",
            "6\n",
            "7\n",
            "8\n",
            "9\n"
          ]
        }
      ]
    },
    {
      "cell_type": "code",
      "source": [
        "# 2부터 100미만의 정수를 3칸을 간격으로 출력\n",
        "for i in range(2,100,3):\n",
        "  print(i)"
      ],
      "metadata": {
        "id": "t1u8DOWNAuGH"
      },
      "execution_count": null,
      "outputs": []
    },
    {
      "cell_type": "code",
      "source": [
        "# if 조건문 : 주어진 조건이 true인 경우에만 명령을 선택적으로 실행하고 싶을 때 사용\n",
        "# : 반드시 사용\n",
        "# 들여쓰기 필수"
      ],
      "metadata": {
        "id": "sIF5fa5FBFSq"
      },
      "execution_count": null,
      "outputs": []
    },
    {
      "cell_type": "code",
      "source": [
        "# if 조건문 형식\n",
        "# if 조건:\n",
        "#   조건이 참일 경우 실행할 문장1\n",
        "#   (조건이 참일 경우 실행할 문장1)"
      ],
      "metadata": {
        "id": "vEq9VNvYBxKh"
      },
      "execution_count": null,
      "outputs": []
    },
    {
      "cell_type": "code",
      "source": [
        "if 10>3:\n",
        "  print(\"안녕하세요\")"
      ],
      "metadata": {
        "colab": {
          "base_uri": "https://localhost:8080/"
        },
        "id": "-PXbJXGeB-uZ",
        "outputId": "4cb1a0a5-c43e-49ca-8a29-998c77486cb4"
      },
      "execution_count": null,
      "outputs": [
        {
          "output_type": "stream",
          "name": "stdout",
          "text": [
            "안녕하세요\n"
          ]
        }
      ]
    },
    {
      "cell_type": "code",
      "source": [
        "if 10!=0 and 5%2==1:\n",
        "  print('안녕하세요')"
      ],
      "metadata": {
        "colab": {
          "base_uri": "https://localhost:8080/"
        },
        "id": "7G4Aj1MwCIDE",
        "outputId": "422790e3-1fcf-4aeb-9649-a35e6351fd40"
      },
      "execution_count": null,
      "outputs": [
        {
          "output_type": "stream",
          "name": "stdout",
          "text": [
            "안녕하세요\n"
          ]
        }
      ]
    },
    {
      "cell_type": "code",
      "source": [
        "passwd=int(input('비밀번호 4자리를 입력해주세요:'))\n",
        "if passwd==1531:\n",
        "  print('비밀번호가 일치합니다.')"
      ],
      "metadata": {
        "colab": {
          "base_uri": "https://localhost:8080/"
        },
        "id": "iaYVWmBbCZ0V",
        "outputId": "547bbcd0-1a14-4b88-ebab-673a327ded4f"
      },
      "execution_count": null,
      "outputs": [
        {
          "output_type": "stream",
          "name": "stdout",
          "text": [
            "비밀번호 4자리를 입력해주세요:1531\n",
            "비밀번호가 일치합니다\n"
          ]
        }
      ]
    },
    {
      "cell_type": "code",
      "source": [
        "for i in range(10000):\n",
        "  if i==1531:\n",
        "    print('비밀번호가 일치합니다')"
      ],
      "metadata": {
        "colab": {
          "base_uri": "https://localhost:8080/"
        },
        "id": "jdNxgyhPCy9p",
        "outputId": "2f45ec2d-deb9-4615-dd1b-abcc79119daa"
      },
      "execution_count": null,
      "outputs": [
        {
          "output_type": "stream",
          "name": "stdout",
          "text": [
            "비밀번호가 일치합니다\n"
          ]
        }
      ]
    },
    {
      "cell_type": "code",
      "source": [
        "passwd=int(input('비밀번호가 4자리를 입력하세요:'))\n",
        "if passwd==1531:\n",
        "  print('비밀번호가 일치합니다')\n",
        "else:\n",
        "  print('비밀번호가 일치하지 않습니다')\n",
        "\n",
        "# else: 그 밖에"
      ],
      "metadata": {
        "colab": {
          "base_uri": "https://localhost:8080/"
        },
        "id": "Av4QeG_nDOoR",
        "outputId": "ffd6176c-7143-4036-ab50-f743a44f2126"
      },
      "execution_count": null,
      "outputs": [
        {
          "output_type": "stream",
          "name": "stdout",
          "text": [
            "비밀번호가 4자리를 입력하세요:1353\n",
            "비밀번호가 일치하지 않습니다\n"
          ]
        }
      ]
    },
    {
      "cell_type": "code",
      "source": [
        "# else if: 약자 elif\n",
        "print('[소름끼치도록 놀라운 심리테스트]')\n",
        "menu=input('당신이 좋아하는 음식을 입력해주세요:')\n",
        "if menu=='짜장면':\n",
        "  print('당신은 짜장면을 좋아하는 사람입니다.')\n",
        "elif menu=='아이스크림':\n",
        "  print('당신은 아이스크임을 좋아하는 사람입니다.')\n",
        "elif menu=='사탕':\n",
        "  print('당신은 사탕을 좋아하는 사람입니다.')\n",
        "else:\n",
        "  print('당신은 짜장면과 아이스크림과 사탕을 좋아하지 않는 사람입니다.')"
      ],
      "metadata": {
        "colab": {
          "base_uri": "https://localhost:8080/"
        },
        "id": "I3LrOcPEDtt-",
        "outputId": "53c200b7-f7be-4405-b1fa-1ccb4ca88e35"
      },
      "execution_count": null,
      "outputs": [
        {
          "output_type": "stream",
          "name": "stdout",
          "text": [
            "[소름끼치도록 놀라운 심리테스트]\n",
            "당신이 좋아하는 음식을 입력해주세요:사탕\n",
            "당신은 사탕을 좋아하는 사람입니다.\n"
          ]
        }
      ]
    },
    {
      "cell_type": "code",
      "source": [
        "# 순서 있는 저장 공간 리스트\n",
        "# 순서가 있는 데이터를 다룰 때, 리스트(list) 데이터 구조\n",
        "# 리스트: []\n",
        "# 각각의 값들은 ,로 구분"
      ],
      "metadata": {
        "id": "ePjN5ESaFgdU"
      },
      "execution_count": null,
      "outputs": []
    },
    {
      "cell_type": "code",
      "source": [
        "for i in [0,1,2,3]:\n",
        "  print(i**2)"
      ],
      "metadata": {
        "colab": {
          "base_uri": "https://localhost:8080/"
        },
        "id": "AHeMHDcYFr8Z",
        "outputId": "3e65758d-d0b0-499d-fe1d-74cae80053b4"
      },
      "execution_count": null,
      "outputs": [
        {
          "output_type": "stream",
          "name": "stdout",
          "text": [
            "0\n",
            "1\n",
            "4\n",
            "9\n"
          ]
        }
      ]
    },
    {
      "cell_type": "code",
      "source": [
        "names=['초파','상디','조로','루피']\n",
        "for name in names:\n",
        "  print(name)"
      ],
      "metadata": {
        "colab": {
          "base_uri": "https://localhost:8080/"
        },
        "id": "QssSLX0hFx23",
        "outputId": "ad0f6807-0230-4516-d87a-7804cc53c861"
      },
      "execution_count": null,
      "outputs": [
        {
          "output_type": "stream",
          "name": "stdout",
          "text": [
            "초파\n",
            "상디\n",
            "조로\n",
            "루피\n"
          ]
        }
      ]
    },
    {
      "cell_type": "code",
      "source": [
        "# 리스트에 저장된 위치로 값에 접근하기"
      ],
      "metadata": {
        "id": "KxQMbOnnGXB2"
      },
      "execution_count": null,
      "outputs": []
    },
    {
      "cell_type": "code",
      "source": [
        "names=['초파', '루피','상디', '조로']\n",
        "print(names[1])"
      ],
      "metadata": {
        "colab": {
          "base_uri": "https://localhost:8080/"
        },
        "id": "h0BkOfM-GlQ-",
        "outputId": "cd01417b-73bd-407c-b179-3227e2a301b2"
      },
      "execution_count": null,
      "outputs": [
        {
          "output_type": "stream",
          "name": "stdout",
          "text": [
            "루피\n"
          ]
        }
      ]
    },
    {
      "cell_type": "code",
      "source": [
        "names=['초파', '루피','상디', '조로']\n",
        "print(names[-1])\n",
        "\n",
        "# -1: 뒤에서 첫 번째"
      ],
      "metadata": {
        "colab": {
          "base_uri": "https://localhost:8080/"
        },
        "id": "dT0oaWTPGwZI",
        "outputId": "fb2a3c73-8c05-4afd-dd4a-3916e24f4f66"
      },
      "execution_count": null,
      "outputs": [
        {
          "output_type": "stream",
          "name": "stdout",
          "text": [
            "조로\n"
          ]
        }
      ]
    },
    {
      "cell_type": "code",
      "source": [
        "# 리스트에 저장된 위치로 데이터 일부 자르기\n",
        "\n",
        "names=['초파','루피','조로','상디']\n",
        "print(names[0:2])\n",
        "print(names[1:3])\n",
        "print(names[1:])\n",
        "print(names[:])\n",
        "\n",
        "# range함수와 마찬가지로 [a:b]는 a이상 b미만이라는 구간에 적용\n",
        "# 1: 1부터 끝까지\n",
        "# : 처음부터 끝까지"
      ],
      "metadata": {
        "colab": {
          "base_uri": "https://localhost:8080/"
        },
        "id": "u4TTzo7bG27X",
        "outputId": "bc564ed8-b9f8-43ef-ca49-45f933653a9c"
      },
      "execution_count": null,
      "outputs": [
        {
          "output_type": "stream",
          "name": "stdout",
          "text": [
            "['초파', '루피']\n",
            "['루피', '조로']\n",
            "['루피', '조로', '상디']\n",
            "['초파', '루피', '조로', '상디']\n"
          ]
        }
      ]
    },
    {
      "cell_type": "code",
      "source": [
        "# 리스트에 값 추가하기\n",
        "# attend()\n",
        "\n",
        "names=['초파','루피','조로','상디']\n",
        "names.append('나미')\n",
        "print(names)"
      ],
      "metadata": {
        "colab": {
          "base_uri": "https://localhost:8080/"
        },
        "id": "BnglOy8IHCGW",
        "outputId": "a7519ecb-1d34-4f98-c4e8-f686fbd2653a"
      },
      "execution_count": null,
      "outputs": [
        {
          "output_type": "stream",
          "name": "stdout",
          "text": [
            "['초파', '루피', '조로', '상디', '나미']\n"
          ]
        }
      ]
    },
    {
      "cell_type": "code",
      "source": [
        "# 리스트에 몇 개의 데이터가 저장되었는지 확인하려면 length의 뜻을 가진 len() 함수 사용\n",
        "# len는 리스트의 길이 뿐만 아니라 문자열의 길이도 확인 가능\n",
        "\n",
        "print(len(names))\n",
        "print(len('data analysis for everyone'))"
      ],
      "metadata": {
        "colab": {
          "base_uri": "https://localhost:8080/"
        },
        "id": "Dcx5oxD6IHlP",
        "outputId": "11531b79-8034-485f-fa34-f3d6bf84d05e"
      },
      "execution_count": null,
      "outputs": [
        {
          "output_type": "stream",
          "name": "stdout",
          "text": [
            "5\n",
            "26\n"
          ]
        }
      ]
    },
    {
      "cell_type": "code",
      "source": [
        "# while 반복문"
      ],
      "metadata": {
        "id": "OFPUlC1MIl7h"
      },
      "execution_count": null,
      "outputs": []
    },
    {
      "cell_type": "code",
      "source": [
        "# while: 어떤 조건에 만족하는 동안 반복 실행\n",
        "# for문은 정해진 횟수 만큼 반복하기 때문에 반복 횟수를 알 수 있으나, while문은 반복 횟수를 알 수 없는 경우가 많음\n",
        "\n",
        "# while 반복문의 형식\n",
        "# while 조건식:\n",
        "#   실행문1\n",
        "#   실행문2\n",
        "\n",
        "#조건식의 결과가 참인 동안 while문 안의 실행문을 실행\n"
      ],
      "metadata": {
        "id": "kMNzUzC5JHns"
      },
      "execution_count": null,
      "outputs": []
    },
    {
      "cell_type": "code",
      "source": [
        "a=input('입력:')\n",
        "while a=='1':\n",
        "  print('맞습니다')\n",
        "  a=input('입력:')\n",
        "\n",
        "# 거짓이면 실행 종료"
      ],
      "metadata": {
        "colab": {
          "base_uri": "https://localhost:8080/"
        },
        "id": "FUJ6kCgRJz8f",
        "outputId": "6fdd1cf1-2ea8-4ab5-f7ea-4a097adfefcc"
      },
      "execution_count": null,
      "outputs": [
        {
          "name": "stdout",
          "output_type": "stream",
          "text": [
            "입력:1\n",
            "맞습니다\n",
            "입력:1\n",
            "맞습니다\n",
            "입력:1\n",
            "맞습니다\n",
            "입력:2\n"
          ]
        }
      ]
    },
    {
      "cell_type": "code",
      "source": [
        "# 무한 반복문\n",
        "# while 문의 조건식을 무조건 참으로 만들어서 그 안의 명령들이 계속 실행되게 만드는 반복문\n",
        "# break : 현재 실행중인 반복 블록을 강제로 빠져나가게 하는 명령어"
      ],
      "metadata": {
        "id": "jPVz3ePQKauh"
      },
      "execution_count": null,
      "outputs": []
    },
    {
      "cell_type": "code",
      "source": [
        "while True:\n",
        "  a=input('입력')\n",
        "  if a !='1':\n",
        "    break"
      ],
      "metadata": {
        "colab": {
          "base_uri": "https://localhost:8080/"
        },
        "id": "OSyg3VDLKra0",
        "outputId": "b2704b21-bc2e-4aa4-8296-0d9055a9dc1c"
      },
      "execution_count": null,
      "outputs": [
        {
          "name": "stdout",
          "output_type": "stream",
          "text": [
            "입력1\n",
            "입력1\n",
            "입력2\n"
          ]
        }
      ]
    },
    {
      "cell_type": "code",
      "source": [
        "while True:\n",
        "  a=input('끝내려면 y를 입력하세요:')\n",
        "  if a=='y':\n",
        "    break"
      ],
      "metadata": {
        "colab": {
          "base_uri": "https://localhost:8080/"
        },
        "id": "4c_bn6TmK-JG",
        "outputId": "e94a1947-aa5a-467d-eca2-334db6e69988"
      },
      "execution_count": null,
      "outputs": [
        {
          "name": "stdout",
          "output_type": "stream",
          "text": [
            "끝내려면 y를 입력하세요:3\n",
            "끝내려면 y를 입력하세요:y\n"
          ]
        }
      ]
    }
  ]
}